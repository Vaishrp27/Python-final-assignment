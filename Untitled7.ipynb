{
  "nbformat": 4,
  "nbformat_minor": 0,
  "metadata": {
    "colab": {
      "provenance": []
    },
    "kernelspec": {
      "name": "python3",
      "display_name": "Python 3"
    },
    "language_info": {
      "name": "python"
    }
  },
  "cells": [
    {
      "cell_type": "markdown",
      "source": [],
      "metadata": {
        "id": "E62M7WUflFBt"
      }
    },
    {
      "cell_type": "code",
      "source": [
        "#How can you open a file for writing in Python and write a string to it\n",
        "file = open(\"example.txt\", \"w\")\n",
        "file.write(\"Hello, world!\")\n",
        "file.close()\n"
      ],
      "metadata": {
        "id": "Cxi9g6HJrKll"
      },
      "execution_count": 1,
      "outputs": []
    },
    {
      "cell_type": "code",
      "source": [
        "#2.Write a Python program to read the contents of a file and print each line\n",
        "file = open(\"example.txt\", \"r\")\n",
        "lines = file.readlines()\n",
        "for line in lines:\n",
        "    print(line.strip())\n",
        "file.close()"
      ],
      "metadata": {
        "id": "mo3Lf_GTrzGd"
      },
      "execution_count": null,
      "outputs": []
    },
    {
      "cell_type": "code",
      "source": [
        "#3.How would you handle a case where the file doesn't exist while trying to open it for reading\n",
        "file = open(\"example.txt\", \"r\")\n",
        "lines = file.readlines()\n",
        "for line in lines:\n",
        "    print(line.strip())\n",
        "file.close()"
      ],
      "metadata": {
        "id": "EVfqgYoJr9R1"
      },
      "execution_count": null,
      "outputs": []
    },
    {
      "cell_type": "code",
      "source": [
        "#4. Write a Python script that reads from one file and writes its content to another file\n",
        "file1 = open(\"file1.txt\", \"r\")\n",
        "file2 = open(\"file2.txt\", \"w\")\n",
        "content = file1.read()\n",
        "file2.write(content)\n",
        "file1.close()\n",
        "file2.close()"
      ],
      "metadata": {
        "id": "uEZZ4vorsDHG"
      },
      "execution_count": null,
      "outputs": []
    },
    {
      "cell_type": "code",
      "source": [
        "#5.How would you catch and handle division by zero error in Python\n",
        "try:\n",
        "    result = 10 / 0\n",
        "except ZeroDivisionError:\n",
        "    print(\"Error: Division by zero\")"
      ],
      "metadata": {
        "id": "WOoMIglssIOs"
      },
      "execution_count": null,
      "outputs": []
    },
    {
      "cell_type": "code",
      "source": [
        "#6.Write a Python program that logs an error message to a log file when a division by zero exception occurs\n",
        "import logging\n",
        "logging.basicConfig(filename='error.log', level=logging.ERROR)\n",
        "try:\n",
        "    result = 10 / 0\n",
        "except ZeroDivisionError:\n",
        "    logging.error(\"Error: Division by zero\")"
      ],
      "metadata": {
        "colab": {
          "base_uri": "https://localhost:8080/"
        },
        "id": "SZSt7npisNiu",
        "outputId": "1bcbb4e9-366e-4ca9-eed8-50ffceadc139"
      },
      "execution_count": 2,
      "outputs": [
        {
          "output_type": "stream",
          "name": "stderr",
          "text": [
            "ERROR:root:Error: Division by zero\n"
          ]
        }
      ]
    },
    {
      "cell_type": "code",
      "source": [
        "#7.How do you log information at different levels (INFO, ERROR, WARNING) in Python using the logging module\n",
        "import logging\n",
        "logging.basicConfig(filename='example.log', level=logging.INFO)\n",
        "logging.info(\"This is an info message\")\n",
        "logging.warning(\"This is a warning message\")\n",
        "logging.error(\"This is an error message\")"
      ],
      "metadata": {
        "id": "vm9e_y4KsSq1"
      },
      "execution_count": null,
      "outputs": []
    },
    {
      "cell_type": "code",
      "source": [
        "#8Write a program to handle a file opening error using exception handlingF.\n",
        "try:\n",
        "    file = open(\"nonexistent_file.txt\", \"r\")\n",
        "except FileNotFoundError:\n",
        "    print(\"Error: File not found\")"
      ],
      "metadata": {
        "id": "fUlz5SZIsapV"
      },
      "execution_count": null,
      "outputs": []
    },
    {
      "cell_type": "code",
      "source": [
        "#9.How can you read a file line by line and store its content in a list in Python\n",
        "  file = open(\"example.txt\", \"r\")\n",
        "lines = file.readlines()\n",
        "file.close()"
      ],
      "metadata": {
        "id": "9a0hWh--sl7o"
      },
      "execution_count": null,
      "outputs": []
    },
    {
      "cell_type": "code",
      "source": [
        "#10.How can you append data to an existing file in Python\n",
        "file = open(\"example.txt\", \"a\")\n",
        "file.write(\"\\nAppending some text to the file.\")\n",
        "file.close()"
      ],
      "metadata": {
        "id": "_SnsPIZKsq0G"
      },
      "execution_count": null,
      "outputs": []
    },
    {
      "cell_type": "code",
      "source": [
        "#11.Write a Python program that uses a try-except block to handle an error when attempting to access a dictionary key that doesn't exist\n",
        "my_dict = {'a': 1, 'b': 2, 'c': 3}\n",
        "try:\n",
        "    value = my_dict['d']\n",
        "except KeyError:\n",
        "    print(\"Error: Key not found in the dictionary\")"
      ],
      "metadata": {
        "id": "u8RBQ8k3sv6d"
      },
      "execution_count": null,
      "outputs": []
    },
    {
      "cell_type": "code",
      "source": [
        "#12.Write a program that demonstrates using multiple except blocks to handle different types of exceptions\n",
        "  try:\n",
        "    result = 10 / 0\n",
        "except ZeroDivisionError:\n",
        "    print(\"Error: Division by zero\")\n",
        "except ValueError:\n",
        "    print(\"Error: Invalid value\")"
      ],
      "metadata": {
        "id": "ilpfEaaWs2tw"
      },
      "execution_count": null,
      "outputs": []
    },
    {
      "cell_type": "code",
      "source": [
        "#13.How would you check if a file exists before attempting to read it in Python\n",
        "import os\n",
        "if os.path.exists(\"example.txt\"):\n",
        "    file = open(\"example.txt\", \"r\")\n",
        "    content = file.read()\n",
        "    file.close()\n",
        "    print(content)\n",
        "else:\n",
        "    print(\"Error: File not found\")"
      ],
      "metadata": {
        "id": "-kP5tKiIs7sV"
      },
      "execution_count": null,
      "outputs": []
    },
    {
      "cell_type": "code",
      "source": [
        "#14.Write a program that uses the logging module to log both informational and error messages\n",
        "import logging\n",
        "logging.basicConfig(filename='example.log', level=logging.INFO)\n",
        "logging.info(\"This is an info message\")\n",
        "logging.error(\"This is an error message\")"
      ],
      "metadata": {
        "id": "gRIXCN-xtB3f"
      },
      "execution_count": null,
      "outputs": []
    },
    {
      "cell_type": "code",
      "source": [
        "#15.Write a Python program that prints the content of a file and handles the case when the file is empty\n",
        "file = open(\"example.txt\", \"r\")\n",
        "content = file.read()\n",
        "if content:\n",
        "    print(content)\n",
        "else:\n",
        "    print(\"Error: File is empty\")\n",
        "file.close()"
      ],
      "metadata": {
        "id": "XPI7vs1WtIEt"
      },
      "execution_count": null,
      "outputs": []
    },
    {
      "cell_type": "code",
      "source": [
        "#16. Demonstrate how to use memory profiling to check the memory usage of a small program\n",
        "from memory_profiler import profile\n",
        "@profile\n",
        "def my_function():\n",
        "    # Some code here\n",
        "    pass"
      ],
      "metadata": {
        "id": "HVWmj2D2tNnJ"
      },
      "execution_count": null,
      "outputs": []
    },
    {
      "cell_type": "code",
      "source": [
        "#17. Write a Python program to create and write a list of numbers to a file, one number per line\n",
        "numbers = [1, 2, 3, 4, 5]\n",
        "file = open(\"numbers.txt\", \"w\")\n",
        "for number in numbers:\n",
        "    file.write(str(number) + \"\\n\")\n",
        "file.close()"
      ],
      "metadata": {
        "id": "2guJIJVUtTps"
      },
      "execution_count": null,
      "outputs": []
    },
    {
      "cell_type": "code",
      "source": [
        "#18.How would you implement a basic logging setup that logs to a file with rotation after 1MB\n",
        "import logging\n",
        "from logging.handlers import RotatingFileHandler\n",
        "logger = logging.getLogger(__name__)\n",
        "logger.setLevel(logging.INFO)\n",
        "handler = RotatingFileHandler('app.log', maxBytes=1000000, backupCount=5)\n",
        "logger.addHandler(handler)\n",
        "logger.info('This is an info message')\n",
        "\n",
        "\n",
        "\n"
      ],
      "metadata": {
        "id": "n4ewz_5EtefQ"
      },
      "execution_count": null,
      "outputs": []
    },
    {
      "cell_type": "code",
      "source": [
        "19.Write a program that handles both IndexError and KeyError using a try-except block\n",
        "my_list = [1, 2, 3]\n",
        "try:\n",
        "    value = my_list[3]\n",
        "except IndexError:\n",
        "    print(\"Error: Index out of range\")\n",
        "#"
      ],
      "metadata": {
        "id": "QDqmFX5xuEX9"
      },
      "execution_count": null,
      "outputs": []
    },
    {
      "cell_type": "code",
      "source": [
        "#20. How would you open a file and read its contents using a context manager in Python\n",
        "with open(\"example.txt\", \"r\") as file:\n",
        "    content = file.read()\n",
        "    print(content)\n",
        ""
      ],
      "metadata": {
        "id": "xfHMKDc5uI-N"
      },
      "execution_count": null,
      "outputs": []
    },
    {
      "cell_type": "code",
      "source": [
        "#21.Write a Python program that reads a file and prints the number of occurrences of a specific word\n",
        "file = open(\"example.txt\", \"r\")\n",
        "content = file.read()\n",
        "word_count = content.count(\"hello\")\n",
        "print(\"Number of occurrences of 'hello':\", word_count)\n",
        "file.close()"
      ],
      "metadata": {
        "id": "6FyetRuAuPQm"
      },
      "execution_count": null,
      "outputs": []
    },
    {
      "cell_type": "markdown",
      "source": [
        "1. What is the difference between interpreted and compiled languages\n",
        "The difference between interpreted and compiled languages lies in how code is translated into machine-readable instructions for the computer to execute.\n",
        "2. What is exception handling in Python?\n",
        "An exception is an error that occurs at runtime (not during compilation\n",
        "3.What is the purpose of the finally block in exception handling?\n",
        "The finally block is used to define code that should always run, regardless of whether an exception was raised or not.\n",
        "4.What is logging in Python?\n",
        "Logging in Python is the process of tracking events that happen when your program runs. It helps developers debug, monitor, and maintain software by recording useful information (like errors, warnings, or runtime behavior) to a file or output\n",
        "5.What is the significance of the __del__ method in Python?\n",
        "The __del__ method in Python is known as a destructor. It is a special method that's automatically called when an object is about to be destroyed — typically when there are no more references to the object.\n",
        "6.What is the difference between import and from ... import in Python?\n",
        "Both import and from ... import are used to include external modules or specific parts of modules in your Python code — but they differ in how you access the imported content.\n",
        "7.How can you handle multiple exceptions in Python?\n",
        " Handling Each Exception Separately\n",
        "Use multiple except blocks to handle different types of exceptions in different ways,Handling Multiple Exceptions in a Single Block,Using a General Exception Handler etc\n",
        "8.What is the purpose of the with statement when handling files in Python?\n",
        "The with statement in Python is used to manage resources like files efficiently and safely. When working with files, its main purpose is to automatically handle opening and closing of the file — even if errors occur.\n",
        "9.What is the difference between multithreading and multiprocessing?\n",
        "Multithreading\n",
        " Runs multiple threads within the same process.\n",
        "Threads share memory space.\n",
        "Ideal for I/O-bound tasks (like file I/O, network operations\n",
        "Multiprocessing\n",
        "Runs multiple processes, each with its own Python interpreter and memory space.\n",
        "Ideal for CPU-bound tasks (like heavy calculations, data processing).\n",
        "10.What are the advantages of using logging in a program?\n",
        "Tracks Runtime Behavior,Helps you understand what your code is doing, when, and in what order,Useful for debugging, especially in large or long-running programs.\n",
        "11.What is memory management in Python?\n",
        "Memory management in Python refers to the process of allocating, managing, and freeing memory used by your Python programs to store data like variables, objects, and program state.\n",
        "12.What are the basic steps involved in exception handling in Python?\n",
        "Identify the risky code\n",
        "Put the code that might cause an error inside a try block.\n",
        "Catch exceptions\n",
        "Use one or more except blocks to catch and handle specific exceptions.\n",
        "Optionally execute code if no exceptions occur\n",
        "Use an else block to run code when the try block succeeds without exceptions.\n",
        "Execute cleanup code regardless of exceptions\n",
        "Use a finally block to run code that should always execute, such as closing files or releasing\n",
        "13.Why is memory management important in Python?\n",
        "Memory management is crucial because it ensures your Python programs run efficiently, reliably, and without crashing.\n",
        "14.What is the role of try and except in exception handling?\n",
        "try Block\n",
        "Purpose: Contains the code that might raise an exception (an error during execution).\n",
        "It tests a block of code for errors.\n",
        "except Block\n",
        "Purpose: Defines how to handle specific exceptions if they occur inside the try block.\n",
        "15.How does Python's garbage collection system work?\n",
        "Python’s garbage collection (GC) system is responsible for automatically freeing memory that is no longer needed by the program, preventing memory leaks and improving efficiency.\n",
        "16.What is the purpose of the else block in exception handling?\n",
        "The else block in Python’s exception handling is optional and is used to specify code that should run only if the try block succeeds without raising any exceptions\n",
        "17.What are the common logging levels in Python?\n",
        "Python's logging module defines several standard logging levels to indicate the severity or importance of events in your program. These help you filter and organize log messages\n",
        "18.What is the difference between os.fork() and multiprocessing in Python?\n",
        "Both os.fork() and the multiprocessing module allow you to create new processes, but they are quite different in how they work and how you use them\n",
        "multiprocessing Module\n",
        "What it does:\n",
        "Provides a high-level API for creating and managing processes\n",
        "19.What is the importance of closing a file in Python?\n",
        "Flushes Data to Disk,Releases System Resources,Prevents Data Corruption,Avoids File Locks\n",
        "20.What is the difference between file.read() and file.readline() in Python\n",
        "File.read()-Reads the entire contents of the file (or up to a specified number of bytes if given an argument)\tA single string containing all the read data\n",
        "file.readline()\tReads one line at a time from the file\tA string containing the next line, including the newline character\n",
        "21.What is the logging module in Python used for\n",
        "The logging module in Python is used to record (log) messages from your program during its execution. It helps you track events, debug issues, and monitor the behavior of your code.\n",
        "22. What is the os module in Python used for in file handling?\n",
        "The os module in Python provides a way to interact with the operating system, including many useful functions for file and directory management beyond basic reading and writing.\n",
        "23.What are the challenges associated with memory management in Python?\n",
        "Reference Cycles\n",
        "Problem: Objects referencing each other (cycles) prevent reference counts from dropping to zero.\n",
        "Can cause memory to stay allocated longer than needed.\n",
        " Memory Leaks,Overhead of Garbage Collection, Large Objects and Fragmentation,Interpreted Language Overhead\n",
        " 24. How do you raise an exception manually in Python?\n",
        " ExceptionType can be any built-in or custom exception class.\n",
        "The optional string is the error message.\n",
        "25.Why is it important to use multithreading in certain applications\n",
        "Multithreading allows a program to run multiple threads (smaller units of a process) concurrently within a single process, which can improve performance and responsiveness in specific scenarios.Improves Responsiveness,Better Resource Utilization,Simplifies Program Structure etc"
      ],
      "metadata": {
        "id": "nstjHQezlGdy"
      }
    }
  ]
}